{
 "cells": [
  {
   "cell_type": "markdown",
   "metadata": {},
   "source": [
    "## INPUT FORMAT\n",
    "- N: the width of the map\n",
    "- M: the height of the map\n",
    "- C: the number of Customer Headquarters\n",
    "- R: representing the maximum number of Reply Offices that can be built\n",
    "\n",
    "C lines follow, each one built of three integers describing the X coordinate, the Y coordinate, and the reward associated with Customer Headquarter.\n",
    "\n",
    "Then, M lines follow, describing a row of N terrain cells. The top-left cell is the origin of the map and is thus assigned “(0, 0)” coordinates. In the world map columns are represented by the X coordinate, while rows by the Y coordinate."
   ]
  },
  {
   "cell_type": "code",
   "execution_count": 1,
   "metadata": {},
   "outputs": [],
   "source": [
    "import math\n",
    "import numpy as np\n",
    "import matplotlib.pyplot as plt"
   ]
  },
  {
   "cell_type": "code",
   "execution_count": 2,
   "metadata": {},
   "outputs": [],
   "source": [
    "file_index = 1\n",
    "\n",
    "files = [\n",
    "    \"0_example.txt\",\n",
    "    \"1_victoria_lake.txt\",\n",
    "    \"2_himalayas.txt\",\n",
    "    \"3_budapest.txt\",\n",
    "    \"4_manhattan.txt\",\n",
    "    \"5_oceania.txt\",\n",
    "]\n",
    "\n",
    "file = \"data/\" + files[file_index]"
   ]
  },
  {
   "cell_type": "code",
   "execution_count": 3,
   "metadata": {},
   "outputs": [],
   "source": [
    "# type of terrain\n",
    "\n",
    "terrain = {\n",
    "    \"#\": math.inf, # Mountains\n",
    "    \"~\": 800,      # Water\n",
    "    \"*\": 200,      # Traffic jam\n",
    "    \"+\": 150,      # Dirt\n",
    "    \"X\": 120,      # Railway level crossing\n",
    "    \"_\": 100,      # Standard terrain\n",
    "    \"H\":  70,      # Highway\n",
    "    \"T\":  50       # Railway\n",
    "}"
   ]
  },
  {
   "cell_type": "code",
   "execution_count": 4,
   "metadata": {},
   "outputs": [
    {
     "name": "stdout",
     "output_type": "stream",
     "text": [
      "50 50 20 8\n"
     ]
    }
   ],
   "source": [
    "# open file\n",
    "\n",
    "f = open(file, 'r') \n",
    "\n",
    "N, M, C, R = [int(x) for x in next(f).split()]\n",
    "\n",
    "customers = np.empty(C, dict)\n",
    "\n",
    "for i in range(C):\n",
    "    n, m, reward = [int(x) for x in next(f).split()]\n",
    "    customers[i] = {\n",
    "        \"m\": m,\n",
    "        \"n\": n,\n",
    "        \"reward\": reward\n",
    "    }\n",
    "    \n",
    "mapp = np.empty((M, N))\n",
    "\n",
    "for m in range(M):\n",
    "    mapp[m] = [terrain[mn] for mn in next(f)[:N]]\n",
    "    \n",
    "print(N, M, C, R)"
   ]
  },
  {
   "cell_type": "code",
   "execution_count": 5,
   "metadata": {},
   "outputs": [
    {
     "data": {
      "text/plain": [
       "array([{'m': 19, 'n': 10, 'reward': 81}, {'m': 2, 'n': 12, 'reward': 44},\n",
       "       {'m': 24, 'n': 29, 'reward': 185},\n",
       "       {'m': 8, 'n': 41, 'reward': 136},\n",
       "       {'m': 28, 'n': 37, 'reward': 308},\n",
       "       {'m': 8, 'n': 31, 'reward': 488}, {'m': 3, 'n': 5, 'reward': 265},\n",
       "       {'m': 15, 'n': 20, 'reward': 256},\n",
       "       {'m': 14, 'n': 31, 'reward': 127},\n",
       "       {'m': 16, 'n': 8, 'reward': 104},\n",
       "       {'m': 12, 'n': 12, 'reward': 223},\n",
       "       {'m': 21, 'n': 27, 'reward': 271},\n",
       "       {'m': 32, 'n': 49, 'reward': 147},\n",
       "       {'m': 21, 'n': 30, 'reward': 134},\n",
       "       {'m': 31, 'n': 40, 'reward': 312},\n",
       "       {'m': 4, 'n': 30, 'reward': 327},\n",
       "       {'m': 30, 'n': 47, 'reward': 418},\n",
       "       {'m': 25, 'n': 21, 'reward': 355}, {'m': 2, 'n': 6, 'reward': 477},\n",
       "       {'m': 2, 'n': 5, 'reward': 378}], dtype=object)"
      ]
     },
     "execution_count": 5,
     "metadata": {},
     "output_type": "execute_result"
    }
   ],
   "source": [
    "customers"
   ]
  },
  {
   "cell_type": "code",
   "execution_count": 6,
   "metadata": {},
   "outputs": [
    {
     "data": {
      "image/png": "[encoded data removed]",
      "text/plain": [
       "<Figure size 432x288 with 1 Axes>"
      ]
     },
     "metadata": {
      "needs_background": "light"
     },
     "output_type": "display_data"
    }
   ],
   "source": [
    "plt.imshow(mapp);"
   ]
  },
  {
   "cell_type": "code",
   "execution_count": null,
   "metadata": {},
   "outputs": [],
   "source": []
  },
  {
   "cell_type": "code",
   "execution_count": 12,
   "metadata": {},
   "outputs": [],
   "source": [
    "import queue\n",
    "\n",
    "def visit(mapp, customer):\n",
    "    customer_m = customer[\"m\"]\n",
    "    customer_n = customer[\"n\"]\n",
    "    reward = customer[\"reward\"]\n",
    "    \n",
    "    customer_mapp = np.empty((M, N))\n",
    "    customer_mapp.fill(- math.inf)\n",
    "    \n",
    "    customer_path = np.empty((M, N), str)\n",
    "    customer_path.fill(\" \")\n",
    "    \n",
    "    q = queue.Queue()\n",
    "    q.put((customer_m + 1, customer_n, reward, \"U\"))\n",
    "    q.put((customer_m - 1, customer_n, reward, \"D\"))\n",
    "    q.put((customer_m, customer_n + 1, reward, \"L\"))\n",
    "    q.put((customer_m, customer_n - 1, reward, \"R\"))\n",
    "    \n",
    "    while not q.empty():\n",
    "        m, n, reward, path = q.get()\n",
    "        \n",
    "        if m >= 0 and m < M and \\\n",
    "            n >= 0 and n < N and \\\n",
    "            not (n == customer_n and m == customer_m):\n",
    "            \n",
    "            reward = reward - mapp[m][n]\n",
    "            if reward > customer_mapp[m][n]:\n",
    "                customer_mapp[m][n] = reward\n",
    "                customer_path[m][n] = path\n",
    "                q.put((m + 1, n, reward, \"U\"))\n",
    "                q.put((m - 1, n, reward, \"D\"))\n",
    "                q.put((m, n + 1, reward, \"L\"))\n",
    "                q.put((m, n - 1, reward, \"R\"))\n",
    "    \n",
    "    return customer_mapp, customer_path\n",
    "            \n",
    "    "
   ]
  },
  {
   "cell_type": "code",
   "execution_count": 13,
   "metadata": {},
   "outputs": [],
   "source": [
    "reward, path = visit(mapp, customers[0])"
   ]
  },
  {
   "cell_type": "code",
   "execution_count": 14,
   "metadata": {},
   "outputs": [
    {
     "data": {
      "text/plain": [
       "<matplotlib.image.AxesImage at 0x7f73d09063c8>"
      ]
     },
     "execution_count": 14,
     "metadata": {},
     "output_type": "execute_result"
    },
    {
     "data": {
      "image/png": "[encoded data removed]",
      "text/plain": [
       "<Figure size 432x288 with 1 Axes>"
      ]
     },
     "metadata": {
      "needs_background": "light"
     },
     "output_type": "display_data"
    }
   ],
   "source": [
    "plt.imshow(reward)"
   ]
  },
  {
   "cell_type": "markdown",
   "metadata": {},
   "source": [
    "print(path)\n",
    "print(reward)"
   ]
  },
  {
   "cell_type": "code",
   "execution_count": 15,
   "metadata": {
    "scrolled": false
   },
   "outputs": [],
   "source": [
    "def get_path(path, m, n):\n",
    "    path_string = \"\"\n",
    "    while(path[m][n] != \"X\" and path[m][n] != \" \"):\n",
    "        path_string += path[m][n]\n",
    "        if path[m][n] == \"U\":\n",
    "            m -= 1\n",
    "        elif path[m][n] == \"D\":\n",
    "            m += 1\n",
    "        elif path[m][n] == \"L\":\n",
    "            n -= 1\n",
    "        elif path[m][n] == \"R\":\n",
    "            n += 1\n",
    "        else:\n",
    "            return \"\"\n",
    "    return path_string"
   ]
  },
  {
   "cell_type": "code",
   "execution_count": null,
   "metadata": {},
   "outputs": [],
   "source": []
  },
  {
   "cell_type": "code",
   "execution_count": 16,
   "metadata": {},
   "outputs": [],
   "source": [
    "from numpy import unravel_index\n",
    "\n",
    "\n",
    "rewards = np.zeros((M, N))\n",
    "\n",
    "for customer in customers:\n",
    "    c_reward, c_path = visit(mapp, customer)\n",
    "    customer[\"reward_mapp\"] = c_reward\n",
    "    customer[\"path_mapp\"] = c_path\n",
    "    rewards += c_reward"
   ]
  },
  {
   "cell_type": "code",
   "execution_count": 18,
   "metadata": {},
   "outputs": [
    {
     "name": "stdout",
     "output_type": "stream",
     "text": [
      "HQ 20 27 -24394.0\n",
      "20 27 D 221.0\n"
     ]
    }
   ],
   "source": [
    "solution = open(\"solution/\" + files[file_index], \"w\")\n",
    "\n",
    "h_m, h_n = unravel_index(rewards.argmax(), rewards.shape)\n",
    "\n",
    "print(\"HQ\", h_m, h_n, rewards[h_m][h_n])\n",
    "for customer in customers:\n",
    "    if customer[\"reward_mapp\"][h_m][h_n] >= 0:\n",
    "        solution.write(\"{} {} {}\\n\".format(h_n, h_m, get_path(customer[\"path_mapp\"], h_m, h_n)))\n",
    "\n",
    "        print(h_m, h_n, get_path(customer[\"path_mapp\"], h_m, h_n), customer[\"reward_mapp\"][h_m][h_n])\n",
    "\n",
    "mapp[h_m][h_n] = math.inf\n",
    "\n",
    "solution.close()"
   ]
  },
  {
   "cell_type": "code",
   "execution_count": 268,
   "metadata": {},
   "outputs": [
    {
     "name": "stdout",
     "output_type": "stream",
     "text": [
      "[[ inf  inf  inf  inf  inf  inf  inf  inf  inf  inf  inf  inf  inf  inf\n",
      "   inf  inf  inf  inf  inf  inf]\n",
      " [ inf  inf 100. 100. 100. 100. 100.  50. 100. 100. 100. 100.  inf  inf\n",
      "  100. 100. 100.  inf  inf  inf]\n",
      " [ inf  inf  inf  inf 100. 100. 100. 120. 100.  inf 100. 100. 100. 100.\n",
      "  100. 100. 100.  inf  inf  inf]\n",
      " [ inf  inf  inf  inf  inf  inf 100.  50. 100.  inf  inf 100. 100. 100.\n",
      "  100. 100. 100.  inf  inf  inf]\n",
      " [ inf 100. 100. 100.  50. 120.  50.  50. 800. 800.  inf  inf 100. 100.\n",
      "  150. 150. 100. 100.  inf  inf]\n",
      " [ inf 100. 100. 100.  50. 100.  inf 800. 800. 800. 800.  inf  inf 150.\n",
      "  150. 150. 150. 150. 100.  inf]\n",
      " [100. 100. 100. 100.  50. 100.  inf 800. 800. 800. 800. 800.  inf 150.\n",
      "  150. 150. 150. 100. 100. 100.]\n",
      " [ inf 100. 100. 100. 100. 100. 100. 800. 800. 800. 800.  inf  inf 150.\n",
      "  150. 150. 100. 100. 100.  inf]\n",
      " [ inf 100. 100. 100. 100. 100. 100. 100. 800. 800.  inf 100. 100. 100.\n",
      "  100. 100. 100.  inf 100.  inf]\n",
      " [100. 100. 100.  70.  70.  70.  70. 200.  70.  70. 200.  70.  70.  70.\n",
      "   70.  70. 200. 100. 100. 100.]\n",
      " [ inf  inf  inf 100. 100. 100. 100. 100. 100. 100. 100. 100. 100.  inf\n",
      "   inf  inf  inf  inf  inf  inf]]\n",
      "[[   -inf    -inf    -inf    -inf    -inf    -inf    -inf    -inf    -inf\n",
      "     -inf    -inf    -inf    -inf    -inf    -inf    -inf    -inf    -inf\n",
      "     -inf    -inf]\n",
      " [   -inf    -inf  -5000.  -4600.  -4200.  -3800.  -3400.  -3000.  -2800.\n",
      "   -2400.  -2000.  -1600.    -inf    -inf   -400.      0.    400.    -inf\n",
      "     -inf    -inf]\n",
      " [   -inf    -inf    -inf    -inf  -4600.  -4200.  -3800.  -3480.  -3200.\n",
      "     -inf  -1600.  -1200.   -800.   -400.      0.    400.    800.    -inf\n",
      "     -inf    -inf]\n",
      " [   -inf    -inf    -inf    -inf    -inf    -inf  -3400.  -3400.  -3600.\n",
      "     -inf    -inf   -800.   -400.      0.    400.    800.   1200.    -inf\n",
      "     -inf    -inf]\n",
      " [   -inf  -3600.  -3200.  -2800.  -2400.  -2800.  -3000.  -3200.  -6400.\n",
      "   -9600.    -inf    -inf   -400.      0.    400.   1000.   1600.   2000.\n",
      "     -inf    -inf]\n",
      " [   -inf  -3400.  -3000.  -2600.  -2200.  -2320.    -inf  -6400.  -9600.\n",
      "  -11880. -15080.    -inf    -inf    400.    800.   1200.   1800.   2400.\n",
      "    2200.    -inf]\n",
      " [ -3600.  -3200.  -2800.  -2400.  -2000.  -1920.    -inf  -6960.  -8960.\n",
      "   -8680. -11880. -15080.    -inf   1000.   1400.   1800.   2400.   3000.\n",
      "    2600.   2200.]\n",
      " [   -inf  -2880.  -2480.  -2080.  -1800.  -1520.  -1240.  -3760.  -5760.\n",
      "   -5480.  -8680.    -inf    -inf   1600.   2000.   2400.   3000.   3400.\n",
      "    3000.    -inf]\n",
      " [   -inf  -2480.  -2080.  -1680.  -1400.  -1120.   -840.   -560.  -2560.\n",
      "   -2280.    -inf   1600.   1880.   2200.   2600.   3000.   3400.   3800.\n",
      "    3400.    -inf]\n",
      " [ -2480.  -2080.  -1680.  -1280.  -1000.   -720.   -440.   -160.    640.\n",
      "     920.   1200.   2000.   2280.   2560.   2840.   3120.   3400.    -inf\n",
      "    3800.   3400.]\n",
      " [   -inf    -inf    -inf  -1600.  -1200.   -800.   -400.      0.    400.\n",
      "     800.   1200.   1600.   1880.    -inf    -inf    -inf    -inf    -inf\n",
      "     -inf    -inf]]\n"
     ]
    },
    {
     "data": {
      "text/plain": [
       "(inf, 3800.0)"
      ]
     },
     "execution_count": 268,
     "metadata": {},
     "output_type": "execute_result"
    }
   ],
   "source": [
    "print(mapp)\n",
    "print(rewards)\n",
    "x, y = unravel_index(rewards.argmax(), rewards.shape)\n",
    "\n",
    "mapp[x][y], rewards[x][y]"
   ]
  },
  {
   "cell_type": "code",
   "execution_count": 234,
   "metadata": {},
   "outputs": [
    {
     "data": {
      "text/plain": [
       "'RUUUUUUUU'"
      ]
     },
     "execution_count": 234,
     "metadata": {},
     "output_type": "execute_result"
    }
   ],
   "source": [
    "get_path(path, 9,14)"
   ]
  },
  {
   "cell_type": "code",
   "execution_count": 235,
   "metadata": {},
   "outputs": [
    {
     "data": {
      "text/plain": [
       "<matplotlib.image.AxesImage at 0x7fbe82987898>"
      ]
     },
     "execution_count": 235,
     "metadata": {},
     "output_type": "execute_result"
    },
    {
     "data": {
      "image/png": "[encoded data removed]",
      "text/plain": [
       "<Figure size 432x288 with 1 Axes>"
      ]
     },
     "metadata": {
      "needs_background": "light"
     },
     "output_type": "display_data"
    }
   ],
   "source": [
    "rewards = np.zeros((M, N))\n",
    "paths = []\n",
    "for customer in customers:\n",
    "    cost, path = visit(mapp, customer)\n",
    "    rewards += cost\n",
    "    paths.append(path)\n",
    "\n",
    "plt.imshow(rewards)"
   ]
  },
  {
   "cell_type": "code",
   "execution_count": 236,
   "metadata": {},
   "outputs": [
    {
     "data": {
      "text/plain": [
       "(9, 14)"
      ]
     },
     "execution_count": 236,
     "metadata": {},
     "output_type": "execute_result"
    }
   ],
   "source": [
    "from numpy import unravel_index\n",
    "unravel_index(rewards.argmax(), rewards.shape)"
   ]
  },
  {
   "cell_type": "code",
   "execution_count": null,
   "metadata": {},
   "outputs": [],
   "source": [
    "import queue\n",
    "\n",
    "for customer in customers:\n",
    "    customer_mapp = np.empty((M, N))\n",
    "    customer_mapp.fill(- math.inf)\n",
    "    customer_mapp[customer[\"m\"]][customer[\"n\"]]\n",
    "    \n",
    "    q = queue.Queue()\n",
    "    q.put((m, n, reward))\n",
    "    \n",
    "    while not q.empty():\n",
    "        m, n, reward = q.get()\n",
    "        \n",
    "    "
   ]
  },
  {
   "cell_type": "code",
   "execution_count": null,
   "metadata": {},
   "outputs": [],
   "source": [
    "import queue\n",
    "\n",
    "q = queue.Queue()\n",
    "\n",
    "for i in range(5):\n",
    "    q.put(i)\n",
    "\n",
    "while not q.empty():\n",
    "    print(q.get(), end=' ')\n",
    "print()"
   ]
  },
  {
   "cell_type": "code",
   "execution_count": null,
   "metadata": {},
   "outputs": [],
   "source": [
    "np.zeros((M, N))"
   ]
  },
  {
   "cell_type": "code",
   "execution_count": null,
   "metadata": {},
   "outputs": [],
   "source": [
    "c = np.empty((M, N))\n",
    "c.fill(-math.inf)"
   ]
  },
  {
   "cell_type": "code",
   "execution_count": null,
   "metadata": {},
   "outputs": [],
   "source": []
  },
  {
   "cell_type": "code",
   "execution_count": 103,
   "metadata": {},
   "outputs": [
    {
     "data": {
      "text/plain": [
       "array([[-inf, -inf, -inf, -inf, -inf, -inf, -inf, -inf, -inf, -inf, -inf,\n",
       "        -inf, -inf, -inf, -inf, -inf, -inf, -inf, -inf, -inf],\n",
       "       [-inf, -inf, -inf, -inf, -inf, -inf, -inf, -inf, -inf, -inf, -inf,\n",
       "        -inf, -inf, -inf, -inf, -inf, -inf, -inf, -inf, -inf],\n",
       "       [-inf, -inf, -inf, -inf, -inf, -inf, -inf, -inf, -inf, -inf, -inf,\n",
       "        -inf, -inf, -inf, -inf, -inf, -inf, -inf, -inf, -inf],\n",
       "       [-inf, -inf, -inf, -inf, -inf, -inf, -inf, -inf, -inf, -inf, -inf,\n",
       "        -inf, -inf, -inf, -inf, -inf, -inf, -inf, -inf, -inf],\n",
       "       [-inf, -inf, -inf, -inf, -inf, -inf, -inf, -inf, -inf, -inf, -inf,\n",
       "        -inf, -inf, -inf, -inf, -inf, -inf, -inf, -inf, -inf],\n",
       "       [-inf, -inf, -inf, -inf, -inf, -inf, -inf, -inf, -inf, -inf, -inf,\n",
       "        -inf, -inf, -inf, -inf, -inf, -inf, -inf, -inf, -inf],\n",
       "       [-inf, -inf, -inf, -inf, -inf, -inf, -inf, -inf, -inf, -inf, -inf,\n",
       "        -inf, -inf, -inf, -inf, -inf, -inf, -inf, -inf, -inf],\n",
       "       [-inf, -inf, -inf, -inf, -inf, -inf, -inf, -inf, -inf, -inf, -inf,\n",
       "        -inf, -inf, -inf, -inf, -inf, -inf, -inf, -inf, -inf],\n",
       "       [-inf, -inf, -inf, -inf, -inf, -inf, -inf, -inf, -inf, -inf, -inf,\n",
       "        -inf, -inf, -inf, -inf, -inf, -inf, -inf, -inf, -inf],\n",
       "       [-inf, -inf, -inf, -inf, -inf, -inf, -inf, -inf, -inf, -inf, -inf,\n",
       "        -inf, -inf, -inf, -inf, -inf, -inf, -inf, -inf, -inf],\n",
       "       [-inf, -inf, -inf, -inf, -inf, -inf, -inf, -inf, -inf, -inf, -inf,\n",
       "        -inf, -inf, -inf, -inf, -inf, -inf, -inf, -inf, -inf]])"
      ]
     },
     "execution_count": 103,
     "metadata": {},
     "output_type": "execute_result"
    }
   ],
   "source": [
    "c"
   ]
  },
  {
   "cell_type": "code",
   "execution_count": null,
   "metadata": {},
   "outputs": [],
   "source": []
  }
 ],
 "metadata": {
  "kernelspec": {
   "display_name": "Python 3",
   "language": "python",
   "name": "python3"
  },
  "language_info": {
   "codemirror_mode": {
    "name": "ipython",
    "version": 3
   },
   "file_extension": ".py",
   "mimetype": "text/x-python",
   "name": "python",
   "nbconvert_exporter": "python",
   "pygments_lexer": "ipython3",
   "version": "3.7.3"
  }
 },
 "nbformat": 4,
 "nbformat_minor": 2
}
